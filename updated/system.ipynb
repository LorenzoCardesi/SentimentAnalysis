{
 "cells": [
  {
   "cell_type": "code",
   "execution_count": 1,
   "metadata": {},
   "outputs": [
    {
     "data": {
      "application/vnd.jupyter.widget-view+json": {
       "model_id": "1c8d8f3bb30346828e367a686e80cd6b",
       "version_major": 2,
       "version_minor": 0
      },
      "text/plain": [
       "Loading checkpoint shards:   0%|          | 0/2 [00:00<?, ?it/s]"
      ]
     },
     "metadata": {},
     "output_type": "display_data"
    },
    {
     "name": "stderr",
     "output_type": "stream",
     "text": [
      "You are using the default legacy behaviour of the <class 'transformers.models.t5.tokenization_t5.T5Tokenizer'>. This is expected, and simply means that the `legacy` (previous) behavior will be used so nothing changes for you. If you want to use the new behaviour, set `legacy=False`. This should only be set if you understand what it means, and thoroughly read the reason why this was added as explained in https://github.com/huggingface/transformers/pull/24565\n",
      "Special tokens have been added in the vocabulary, make sure the associated word embeddings are fine-tuned or trained.\n"
     ]
    }
   ],
   "source": [
    "from transformers import T5Tokenizer, T5ForConditionalGeneration\n",
    "import pandas as pd\n",
    "\n",
    "model = T5ForConditionalGeneration.from_pretrained(\"google/flan-t5-xl\").to(\"cuda\")\n",
    "tokenizer = T5Tokenizer.from_pretrained(\"google/flan-t5-xl\")"
   ]
  },
  {
   "cell_type": "code",
   "execution_count": 2,
   "metadata": {},
   "outputs": [],
   "source": [
    "def preprocess(dataset):\n",
    "    dataset.rename(columns={'sentiment': 'Sentiment', 'review': 'Text'}, inplace=True)\n",
    "    dataset['Sentiment'] = dataset['Sentiment'].replace({'negative': 0, 'positive': 1})\n",
    "    dataset['Sentiment'] = dataset['Sentiment'].replace({'Negative': 0, 'Positive': 1})\n",
    "    # dataset = dataset.sample(frac=1, random_state=1).reset_index(drop=True)\n"
   ]
  },
  {
   "cell_type": "code",
   "execution_count": 3,
   "metadata": {},
   "outputs": [],
   "source": [
    "start = 0\n",
    "end = 500\n",
    "answers = end - start"
   ]
  },
  {
   "cell_type": "code",
   "execution_count": 4,
   "metadata": {},
   "outputs": [
    {
     "name": "stderr",
     "output_type": "stream",
     "text": [
      "/tmp/ipykernel_13733/1541051826.py:3: FutureWarning: Downcasting behavior in `replace` is deprecated and will be removed in a future version. To retain the old behavior, explicitly call `result.infer_objects(copy=False)`. To opt-in to the future behavior, set `pd.set_option('future.no_silent_downcasting', True)`\n",
      "  dataset['Sentiment'] = dataset['Sentiment'].replace({'negative': 0, 'positive': 1})\n"
     ]
    }
   ],
   "source": [
    "imdb = pd.read_csv(\"IMDB Dataset.csv\")\n",
    "preprocess(imdb)\n",
    "\n",
    "imdb = imdb[start:end]"
   ]
  },
  {
   "cell_type": "code",
   "execution_count": 5,
   "metadata": {},
   "outputs": [],
   "source": [
    "def inference(*, prompt, sentence, tokenizer, model):\n",
    "    inputs_ids = tokenizer(prompt(sentence),  padding='max_length', return_tensors=\"pt\").input_ids.to(\"cuda\")\n",
    "    outputs = model.generate(inputs_ids, max_new_tokens=50)\n",
    "    result = tokenizer.decode(outputs[0], skip_special_tokens=True)\n",
    "\n",
    "    \n",
    "    if \"negative\" in result.lower():\n",
    "        return 0\n",
    "    elif \"positive\" in result.lower():\n",
    "        return 1\n",
    "    else:\n",
    "        return 2"
   ]
  },
  {
   "cell_type": "code",
   "execution_count": 8,
   "metadata": {},
   "outputs": [],
   "source": [
    "import random\n",
    "\n",
    "\n",
    "def build_example(dataset, index):\n",
    "    return (\"Text: \" + dataset.Text[index] + \"\\nSentiment: \" + [\"negative\",\"positive\"][dataset.Sentiment[index]] + \"\\n\\n\")\n",
    "\n",
    "def get_build_prompt(dataset, index, shots, system):\n",
    "    def build_prompt(sent):\n",
    "        ret = \"\"\n",
    "        if(system):\n",
    "            if(shots > 0):\n",
    "                ret += \"Classify the text into negative or positive. Here you have some examples:\\n\\n\"\n",
    "            else:\n",
    "                ret += \"Classify the text into negative or positive.\\n\\n\"\n",
    "        help_list = []\n",
    "        for j in range(shots):\n",
    "            help = random.sample(range(len(dataset)), 1)[0]\n",
    "            while(index == help or help in help_list):\n",
    "                help = random.sample(range(len(dataset)), 1)[0]\n",
    "            help_list.append(help)\n",
    "            example = build_example(dataset, help)\n",
    "            ret += example\n",
    "        ret += \"Text: \" + sent + \"\\nSentiment: \"\n",
    "        return ret\n",
    "    return build_prompt\n"
   ]
  },
  {
   "cell_type": "code",
   "execution_count": 11,
   "metadata": {},
   "outputs": [],
   "source": [
    "import random\n",
    "from sklearn.metrics import classification_report\n",
    "import torch\n",
    "from tqdm import tqdm\n",
    "\n",
    "\n",
    "@torch.no_grad()\n",
    "def eval(dataset, system):\n",
    "    overall_results = dict()\n",
    "\n",
    "    for shots in [0,1,2]:\n",
    "        if(shots == 0):\n",
    "             test = 1\n",
    "        else:\n",
    "            test = 1\n",
    "        print(\"Running shot\", shots)\n",
    "        for run in range(test):\n",
    "            print(\"Run\", run)\n",
    "            targets = []\n",
    "            predictions = []\n",
    "            total = len(dataset)\n",
    "            \n",
    "            for i in tqdm(range(total), total=total):\n",
    "                prompt = get_build_prompt(dataset, i, shots, system)\n",
    "                targets.append(dataset.Sentiment[i])\n",
    "                predictions.append(inference(prompt=prompt, sentence=dataset.Text[i], tokenizer=tokenizer, model=model))\n",
    "            \n",
    "            right, wrong, no_sentiment = 0, 0, 0\n",
    "            \n",
    "            for j in range(len(predictions)):\n",
    "                if(predictions[j] == 2):\n",
    "                    no_sentiment += 1\n",
    "                elif(targets[j] == predictions[j]):\n",
    "                        right += 1\n",
    "                elif(targets[j] != predictions[j]):\n",
    "                        wrong += 1\n",
    "\n",
    "            if shots not in overall_results:\n",
    "                overall_results[shots] = dict()\n",
    "\n",
    "            overall_results[shots] = {'correct' : right/len(predictions), 'wrong' : wrong/len(predictions), 'no_sentiment': no_sentiment/len(predictions)}\n",
    "            # report = classification_report(targets, predictions, labels=[0,1,2], output_dict=True, zero_division=0)\n",
    "            # overall_results[shots] = report\n",
    "\n",
    "    return overall_results"
   ]
  },
  {
   "cell_type": "code",
   "execution_count": 12,
   "metadata": {},
   "outputs": [],
   "source": [
    "import json\n",
    "import csv\n",
    "\n",
    "def write_csv(file_path, dataframe):\n",
    "    csv_path = \"csv/\" + file_path + \".csv\"\n",
    "    json_path = \"json/\" + file_path + \".json\"\n",
    "    with open(csv_path, mode='w', newline='') as file:\n",
    "        writer = csv.writer(file)\n",
    "        \n",
    "        # Scrittura dell'intestazione\n",
    "        writer.writerow(['', '', file_path.replace(\"_results\", \"\"), ''])\n",
    "        writer.writerow(['', '', 'Errors', '', '', 'Errors', '', '', 'Errors', '', '', 'Errors'])\n",
    "        writer.writerow(['Runs', 'Correct', 'Wrong', 'No_sentiment', 'Correct', 'Wrong', 'No_sentiment', 'Correct', 'Wrong', 'No_sentiment', 'Correct', 'Wrong', 'No_sentiment'])\n",
    "        \n",
    "        # Scrittura dei dati\n",
    "        for j in range(3):\n",
    "            field = [\"Run \" + str(j)]\n",
    "            if(j != 0):\n",
    "                field.append(\"\")\n",
    "                field.append(\"\")\n",
    "                field.append(\"\")\n",
    "            for shots, runs in dataframe.items():\n",
    "                for run_number, metrics in runs.items():\n",
    "                    if(run_number == j):\n",
    "                        field.append(metrics['correct'])\n",
    "                        field.append(metrics['wrong'])\n",
    "                        field.append(metrics['no_sentiment'])\n",
    "            writer.writerow(field)\n",
    "    print(f\"I dati sono stati scritti su {csv_path}.\")\n",
    "\n",
    "    with open(json_path, 'w') as f:\n",
    "        json.dump(dataframe, f, sort_keys=True, indent=4)"
   ]
  },
  {
   "cell_type": "code",
   "execution_count": 20,
   "metadata": {},
   "outputs": [
    {
     "ename": "NameError",
     "evalue": "name 'spaced' is not defined",
     "output_type": "error",
     "traceback": [
      "\u001b[0;31m---------------------------------------------------------------------------\u001b[0m",
      "\u001b[0;31mNameError\u001b[0m                                 Traceback (most recent call last)",
      "Cell \u001b[0;32mIn[20], line 1\u001b[0m\n\u001b[0;32m----> 1\u001b[0m no_caps \u001b[38;5;241m=\u001b[39m \u001b[43mspaced\u001b[49m\n",
      "\u001b[0;31mNameError\u001b[0m: name 'spaced' is not defined"
     ]
    }
   ],
   "source": []
  },
  {
   "cell_type": "code",
   "execution_count": 13,
   "metadata": {},
   "outputs": [
    {
     "name": "stdout",
     "output_type": "stream",
     "text": [
      "Running shot 0\n",
      "Run 0\n"
     ]
    },
    {
     "name": "stderr",
     "output_type": "stream",
     "text": [
      "100%|██████████| 500/500 [02:13<00:00,  3.76it/s]\n"
     ]
    },
    {
     "name": "stdout",
     "output_type": "stream",
     "text": [
      "Running shot 1\n",
      "Run 0\n"
     ]
    },
    {
     "name": "stderr",
     "output_type": "stream",
     "text": [
      "100%|██████████| 500/500 [03:17<00:00,  2.54it/s]\n"
     ]
    },
    {
     "name": "stdout",
     "output_type": "stream",
     "text": [
      "Running shot 2\n",
      "Run 0\n"
     ]
    },
    {
     "name": "stderr",
     "output_type": "stream",
     "text": [
      "100%|██████████| 500/500 [05:10<00:00,  1.61it/s]\n"
     ]
    }
   ],
   "source": [
    "no_caps = eval(dataset=imdb, system=False)\n",
    "\n",
    "# file = ''\n",
    "\n",
    "# write_csv(file, imdb)\n",
    "# # Scrittura dei dati su un file CSV"
   ]
  },
  {
   "cell_type": "code",
   "execution_count": 14,
   "metadata": {},
   "outputs": [],
   "source": [
    "with open(\"json/no_caps.json\", 'w') as f:\n",
    "        json.dump(no_caps, f, sort_keys=True, indent=4)"
   ]
  },
  {
   "cell_type": "code",
   "execution_count": 12,
   "metadata": {},
   "outputs": [],
   "source": [
    "from matplotlib import pyplot as plt\n",
    "import numpy as np\n",
    "import pandas as pd\n",
    "\n",
    "accuracy = dict()\n",
    "\n",
    "def add_accuracy(data, name):\n",
    "    for shot, metrics in data.items():\n",
    "        if shot not in accuracy:\n",
    "            accuracy[shot] = dict()\n",
    "        total = 0\n",
    "        accuracy[shot]['name'] = metrics['correct']\n"
   ]
  },
  {
   "cell_type": "code",
   "execution_count": 13,
   "metadata": {},
   "outputs": [],
   "source": [
    "add_accuracy(no_caps, 'no_caps')"
   ]
  },
  {
   "cell_type": "code",
   "execution_count": null,
   "metadata": {},
   "outputs": [],
   "source": [
    "accuracy"
   ]
  },
  {
   "cell_type": "code",
   "execution_count": 20,
   "metadata": {},
   "outputs": [
    {
     "ename": "KeyError",
     "evalue": "'SP_original'",
     "output_type": "error",
     "traceback": [
      "\u001b[0;31m---------------------------------------------------------------------------\u001b[0m",
      "\u001b[0;31mKeyError\u001b[0m                                  Traceback (most recent call last)",
      "Cell \u001b[0;32mIn[20], line 4\u001b[0m\n\u001b[1;32m      1\u001b[0m indices \u001b[38;5;241m=\u001b[39m \u001b[38;5;28mlist\u001b[39m(accuracy\u001b[38;5;241m.\u001b[39mkeys())\n\u001b[1;32m      3\u001b[0m \u001b[38;5;66;03m# Estrai tutti i valori per 'SP_original', 'SP_contrast', 'original', 'contrast'\u001b[39;00m\n\u001b[0;32m----> 4\u001b[0m SP_original_values \u001b[38;5;241m=\u001b[39m [accuracy[i][\u001b[38;5;124m'\u001b[39m\u001b[38;5;124mSP_original\u001b[39m\u001b[38;5;124m'\u001b[39m] \u001b[38;5;28;01mfor\u001b[39;00m i \u001b[38;5;129;01min\u001b[39;00m indices]\n\u001b[1;32m      5\u001b[0m SP_contrast_values \u001b[38;5;241m=\u001b[39m [accuracy[i][\u001b[38;5;124m'\u001b[39m\u001b[38;5;124mSP_contrast\u001b[39m\u001b[38;5;124m'\u001b[39m] \u001b[38;5;28;01mfor\u001b[39;00m i \u001b[38;5;129;01min\u001b[39;00m indices]\n\u001b[1;32m      6\u001b[0m original_values \u001b[38;5;241m=\u001b[39m [accuracy[i][\u001b[38;5;124m'\u001b[39m\u001b[38;5;124moriginal\u001b[39m\u001b[38;5;124m'\u001b[39m] \u001b[38;5;28;01mfor\u001b[39;00m i \u001b[38;5;129;01min\u001b[39;00m indices]\n",
      "Cell \u001b[0;32mIn[20], line 4\u001b[0m, in \u001b[0;36m<listcomp>\u001b[0;34m(.0)\u001b[0m\n\u001b[1;32m      1\u001b[0m indices \u001b[38;5;241m=\u001b[39m \u001b[38;5;28mlist\u001b[39m(accuracy\u001b[38;5;241m.\u001b[39mkeys())\n\u001b[1;32m      3\u001b[0m \u001b[38;5;66;03m# Estrai tutti i valori per 'SP_original', 'SP_contrast', 'original', 'contrast'\u001b[39;00m\n\u001b[0;32m----> 4\u001b[0m SP_original_values \u001b[38;5;241m=\u001b[39m [\u001b[43maccuracy\u001b[49m\u001b[43m[\u001b[49m\u001b[43mi\u001b[49m\u001b[43m]\u001b[49m\u001b[43m[\u001b[49m\u001b[38;5;124;43m'\u001b[39;49m\u001b[38;5;124;43mSP_original\u001b[39;49m\u001b[38;5;124;43m'\u001b[39;49m\u001b[43m]\u001b[49m \u001b[38;5;28;01mfor\u001b[39;00m i \u001b[38;5;129;01min\u001b[39;00m indices]\n\u001b[1;32m      5\u001b[0m SP_contrast_values \u001b[38;5;241m=\u001b[39m [accuracy[i][\u001b[38;5;124m'\u001b[39m\u001b[38;5;124mSP_contrast\u001b[39m\u001b[38;5;124m'\u001b[39m] \u001b[38;5;28;01mfor\u001b[39;00m i \u001b[38;5;129;01min\u001b[39;00m indices]\n\u001b[1;32m      6\u001b[0m original_values \u001b[38;5;241m=\u001b[39m [accuracy[i][\u001b[38;5;124m'\u001b[39m\u001b[38;5;124moriginal\u001b[39m\u001b[38;5;124m'\u001b[39m] \u001b[38;5;28;01mfor\u001b[39;00m i \u001b[38;5;129;01min\u001b[39;00m indices]\n",
      "\u001b[0;31mKeyError\u001b[0m: 'SP_original'"
     ]
    }
   ],
   "source": [
    "indices = list(accuracy.keys())\n",
    "\n",
    "# Estrai tutti i valori per 'SP_original', 'SP_contrast', 'original', 'contrast'\n",
    "SP_original_values = [accuracy[i]['SP_original'] for i in indices]\n",
    "\n",
    "# Larghezza delle barre\n",
    "bar_width = 0.2\n",
    "\n",
    "# Posizioni per gli indici\n",
    "index = np.arange(len(indices))\n",
    "\n",
    "# Crea il plot\n",
    "fig, ax = plt.subplots(figsize=(10, 6))\n",
    "plt.ylim(0.94, 0.97)\n",
    "bar1 = ax.bar(index - bar_width, SP_original_values, bar_width, label='SP_original')\n",
    "bar2 = ax.bar(index, SP_contrast_values, bar_width, label='SP_contrast')\n",
    "bar3 = ax.bar(index + bar_width, original_values, bar_width, label='original')\n",
    "bar4 = ax.bar(index + 2*bar_width, contrast_values, bar_width, label='contrast')\n",
    "\n",
    "# Etichette, titoli e legenda\n",
    "ax.set_xlabel('Index')\n",
    "ax.set_ylabel('Values')\n",
    "ax.set_title('Comparison of Values')\n",
    "ax.set_xticks(index)\n",
    "ax.set_xticklabels(indices)\n",
    "ax.legend()\n",
    "\n",
    "plt.tight_layout()\n",
    "plt.show()"
   ]
  },
  {
   "cell_type": "code",
   "execution_count": 5,
   "metadata": {},
   "outputs": [],
   "source": [
    "# import json\n",
    "# with open(\"json/SP_original_results.json\", \"r\") as file:\n",
    "#     SP_results_original_set = json.load(file)\n",
    "\n",
    "# with open(\"json/SP_contrast_results.json\", \"r\") as file:\n",
    "#     SP_results_contrast_set = json.load(file)\n",
    "\n",
    "# with open(\"json/original_results.json\", \"r\") as file:\n",
    "#     results_original_set = json.load(file)\n",
    "\n",
    "# with open(\"json/contrast_results.json\", \"r\") as file:\n",
    "#     results_contrast_set = json.load(file)"
   ]
  },
  {
   "cell_type": "code",
   "execution_count": 14,
   "metadata": {},
   "outputs": [],
   "source": [
    "from matplotlib import pyplot as plt\n",
    "import numpy as np\n",
    "\n",
    "def plot_dataframe(data, title):\n",
    "    # Estrazione dei dati\n",
    "    shots = list(data.keys())\n",
    "    correct_values = [data[shot]['correct'] for shot in shots]\n",
    "    wrong_values = [data[shot]['wrong'] for shot in shots]\n",
    "    no_sentiment_values = [data[shot]['no_sentiment'] for shot in shots]\n",
    "\n",
    "    # Larghezza delle barre\n",
    "    bar_width = 0.25\n",
    "\n",
    "    # Posizioni delle barre\n",
    "    r1 = np.arange(len(shots))\n",
    "    r2 = [x + bar_width for x in r1]\n",
    "    r3 = [x + bar_width for x in r2]\n",
    "\n",
    "    # Creazione del plot\n",
    "    fig, ax = plt.subplots(figsize=(12, 6))\n",
    "\n",
    "    bars1 = ax.bar(r1, correct_values, color='b', width=bar_width, edgecolor='grey', label='Correct')\n",
    "    bars2 = ax.bar(r2, wrong_values, color='r', width=bar_width, edgecolor='grey', label='Wrong')\n",
    "    bars3 = ax.bar(r3, no_sentiment_values, color='g', width=bar_width, edgecolor='grey', label='No Sentiment')\n",
    "\n",
    "    # Aggiunta delle etichette e del titolo\n",
    "    ax.set_xlabel('Number of Helps', fontweight='bold')\n",
    "    ax.set_ylabel('Values', fontweight='bold')\n",
    "    ax.set_title(title, fontweight='bold')\n",
    "    ax.set_xticks([r + bar_width for r in range(len(shots))])\n",
    "    ax.set_xticklabels(shots)\n",
    "    ax.legend()\n",
    "\n",
    "    # Aggiunta dei valori delle barre con precisione a 3 cifre decimali\n",
    "    for bar in bars1:\n",
    "        height = bar.get_height()\n",
    "        ax.text(bar.get_x() + bar.get_width() / 2.0, height, f'{height:.3f}', ha='center', va='bottom')\n",
    "\n",
    "    for bar in bars2:\n",
    "        height = bar.get_height()\n",
    "        ax.text(bar.get_x() + bar.get_width() / 2.0, height, f'{height:.3f}', ha='center', va='bottom')\n",
    "\n",
    "    for bar in bars3:\n",
    "        height = bar.get_height()\n",
    "        ax.text(bar.get_x() + bar.get_width() / 2.0, height, f'{height:.3f}', ha='center', va='bottom')\n",
    "\n",
    "    # Mostra il plot\n",
    "    plt.show()"
   ]
  },
  {
   "cell_type": "code",
   "execution_count": 15,
   "metadata": {},
   "outputs": [
    {
     "data": {
      "image/png": "[encoded data removed]",
      "text/plain": [
       "<Figure size 1200x600 with 1 Axes>"
      ]
     },
     "metadata": {},
     "output_type": "display_data"
    }
   ],
   "source": [
    "plot_dataframe(no_caps, \"no_caps\")\n"
   ]
  },
  {
   "cell_type": "code",
   "execution_count": null,
   "metadata": {},
   "outputs": [],
   "source": []
  },
  {
   "cell_type": "code",
   "execution_count": null,
   "metadata": {},
   "outputs": [],
   "source": [
    "total = []\n",
    "indexes = []\n",
    "original_result = [accuracy[x]['accuracy'] for x in range(len(performance_original))]\n",
    "contrast_result = [performance_contrast[x]['accuracy'] for x in range(len(performance_contrast))]\n",
    "shots_list = [str(x)+' Shots' for x in [y['shot'] for y in performance_original]]\n",
    "\n",
    "for i in range(len(original_result)):\n",
    "    total.append(original_result[i])\n",
    "    total.append(contrast_result[i])\n",
    "    indexes.append(shots_list[i])\n",
    "    indexes.append(shots_list[i]+' C')\n",
    "\n",
    "print(total)\n",
    "print(indexes)"
   ]
  },
  {
   "cell_type": "code",
   "execution_count": null,
   "metadata": {},
   "outputs": [],
   "source": [
    "plt.bar([i for i in range(len(indexes)) if i % 2 == 0], [total[i] for i in range(len(indexes)) if i % 2 == 0], color='blue', label='Original')\n",
    "plt.bar([i for i in range(len(indexes)) if i % 2 != 0], [total[i] for i in range(len(indexes)) if i % 2 != 0], color='red', label='Adversarial')\n",
    "plt.xticks(ticks = [i for i in range(len(indexes))], labels=[indexes[i] for i in range(len(indexes))], fontsize=6)\n",
    "\n",
    "plt.ylabel('Accuracy')\n",
    "plt.xlabel('Shots')\n",
    "\n",
    "plt.title('Accuracy on different Few Shots Situations')\n",
    "plt.legend()\n",
    "plt.show()"
   ]
  },
  {
   "cell_type": "code",
   "execution_count": null,
   "metadata": {},
   "outputs": [],
   "source": [
    "plt.bar(range(len(original_result)), original_result)\n",
    "plt.xticks(ticks = [])\n",
    "plt.ylabel('Accuracy')\n",
    "plt.xlabel('Shots')\n",
    "\n",
    "plt.title('Accuracy on different Few Shots Situations')\n",
    "plt.legend()\n",
    "plt.show()"
   ]
  },
  {
   "cell_type": "code",
   "execution_count": null,
   "metadata": {},
   "outputs": [],
   "source": []
  }
 ],
 "metadata": {
  "kernelspec": {
   "display_name": "ml",
   "language": "python",
   "name": "python3"
  },
  "language_info": {
   "codemirror_mode": {
    "name": "ipython",
    "version": 3
   },
   "file_extension": ".py",
   "mimetype": "text/x-python",
   "name": "python",
   "nbconvert_exporter": "python",
   "pygments_lexer": "ipython3",
   "version": "3.10.12"
  }
 },
 "nbformat": 4,
 "nbformat_minor": 2
}
