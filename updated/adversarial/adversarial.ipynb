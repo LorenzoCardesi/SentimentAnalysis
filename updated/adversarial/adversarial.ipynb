{
 "cells": [
  {
   "cell_type": "code",
   "execution_count": 1,
   "metadata": {},
   "outputs": [
    {
     "data": {
      "application/vnd.jupyter.widget-view+json": {
       "model_id": "e05cb38f511a474b9d5dd79e18f3b198",
       "version_major": 2,
       "version_minor": 0
      },
      "text/plain": [
       "Loading checkpoint shards:   0%|          | 0/2 [00:00<?, ?it/s]"
      ]
     },
     "metadata": {},
     "output_type": "display_data"
    },
    {
     "name": "stderr",
     "output_type": "stream",
     "text": [
      "You are using the default legacy behaviour of the <class 'transformers.models.t5.tokenization_t5.T5Tokenizer'>. This is expected, and simply means that the `legacy` (previous) behavior will be used so nothing changes for you. If you want to use the new behaviour, set `legacy=False`. This should only be set if you understand what it means, and thoroughly read the reason why this was added as explained in https://github.com/huggingface/transformers/pull/24565\n",
      "Special tokens have been added in the vocabulary, make sure the associated word embeddings are fine-tuned or trained.\n"
     ]
    }
   ],
   "source": [
    "from transformers import T5Tokenizer, T5ForConditionalGeneration\n",
    "import pandas as pd\n",
    "\n",
    "model = T5ForConditionalGeneration.from_pretrained(\"google/flan-t5-xl\").to(\"cuda\")\n",
    "tokenizer = T5Tokenizer.from_pretrained(\"google/flan-t5-xl\")"
   ]
  },
  {
   "cell_type": "code",
   "execution_count": 3,
   "metadata": {},
   "outputs": [],
   "source": [
    "def preprocess(dataset):\n",
    "    dataset.rename(columns={'sentiment': 'Sentiment', 'review': 'Text'}, inplace=True)\n",
    "    dataset['Sentiment'] = dataset['Sentiment'].replace({'negative': 0, 'positive': 1})\n",
    "    dataset['Sentiment'] = dataset['Sentiment'].replace({'Negative': 0, 'Positive': 1})\n",
    "    dataset = dataset.sample(frac=1, random_state=1).reset_index(drop=True)\n"
   ]
  },
  {
   "cell_type": "code",
   "execution_count": 5,
   "metadata": {},
   "outputs": [
    {
     "name": "stderr",
     "output_type": "stream",
     "text": [
      "/tmp/ipykernel_5459/2921636663.py:4: FutureWarning: Downcasting behavior in `replace` is deprecated and will be removed in a future version. To retain the old behavior, explicitly call `result.infer_objects(copy=False)`. To opt-in to the future behavior, set `pd.set_option('future.no_silent_downcasting', True)`\n",
      "  dataset['Sentiment'] = dataset['Sentiment'].replace({'Negative': 0, 'Positive': 1})\n"
     ]
    }
   ],
   "source": [
    "original = pd.read_csv(\"IMDb/data/test_original.tsv\", sep='\\t')\n",
    "preprocess(original)"
   ]
  },
  {
   "cell_type": "code",
   "execution_count": 6,
   "metadata": {},
   "outputs": [
    {
     "name": "stderr",
     "output_type": "stream",
     "text": [
      "/tmp/ipykernel_5459/2921636663.py:4: FutureWarning: Downcasting behavior in `replace` is deprecated and will be removed in a future version. To retain the old behavior, explicitly call `result.infer_objects(copy=False)`. To opt-in to the future behavior, set `pd.set_option('future.no_silent_downcasting', True)`\n",
      "  dataset['Sentiment'] = dataset['Sentiment'].replace({'Negative': 0, 'Positive': 1})\n"
     ]
    }
   ],
   "source": [
    "contrast = pd.read_csv(\"IMDb/data/test_contrast.tsv\", sep='\\t')\n",
    "preprocess(contrast)"
   ]
  },
  {
   "cell_type": "code",
   "execution_count": 7,
   "metadata": {},
   "outputs": [],
   "source": [
    "def inference(*, prompt, sentence, tokenizer, model):\n",
    "    inputs_ids = tokenizer(prompt(sentence),  padding='max_length', return_tensors=\"pt\").input_ids.to(\"cuda\")\n",
    "    outputs = model.generate(inputs_ids, max_new_tokens=50)\n",
    "    result = tokenizer.decode(outputs[0], skip_special_tokens=True)\n",
    "\n",
    "    \n",
    "    if \"negative\" in result.lower():\n",
    "        return 0\n",
    "    elif \"positive\" in result.lower():\n",
    "        return 1\n",
    "    else:\n",
    "        return 2"
   ]
  },
  {
   "cell_type": "code",
   "execution_count": 8,
   "metadata": {},
   "outputs": [],
   "source": [
    "import random\n",
    "\n",
    "\n",
    "def build_example(dataset, index):\n",
    "    return (\"Text: \" + dataset.Text[index] + \"\\nSentiment: \" + [\"negative\",\"positive\"][dataset.Sentiment[index]] + \"\\n\\n\")\n",
    "\n",
    "def get_build_prompt(dataset, index, shots, system):\n",
    "    def build_prompt(sent):\n",
    "        ret = \"\"\n",
    "        if(system):\n",
    "            if(shots > 0):\n",
    "                ret += \"Classify the text into negative or positive. Here you have some examples:\\n\\n\"\n",
    "            else:\n",
    "                ret += \"Classify the text into negative or positive.\\n\\n\"\n",
    "        help_list = []\n",
    "        for j in range(shots):\n",
    "            help = random.sample(range(len(dataset)), 1)[0]\n",
    "            while(index == help or help in help_list):\n",
    "                help = random.sample(range(len(dataset)), 1)[0]\n",
    "            help_list.append(help)\n",
    "            example = build_example(dataset, help)\n",
    "            ret += example\n",
    "        ret += \"Text: \" + sent + \"\\nSentiment: \"\n",
    "        return ret\n",
    "    return build_prompt\n"
   ]
  },
  {
   "cell_type": "code",
   "execution_count": 47,
   "metadata": {},
   "outputs": [],
   "source": [
    "import random\n",
    "from sklearn.metrics import classification_report\n",
    "import torch\n",
    "from tqdm import tqdm\n",
    "\n",
    "\n",
    "@torch.no_grad()\n",
    "def eval(dataset, system):\n",
    "    overall_results = dict()\n",
    "\n",
    "    for shots in [0,1,2,3]:\n",
    "        if(shots == 0):\n",
    "             test = 1\n",
    "        else:\n",
    "            test = 3\n",
    "        print(\"Running shot\", shots)\n",
    "        for run in range(test):\n",
    "            print(\"Run\", run)\n",
    "            targets = []\n",
    "            predictions = []\n",
    "            total = len(dataset)\n",
    "            \n",
    "            for i in tqdm(range(total), total=total):\n",
    "                prompt = get_build_prompt(dataset, i, shots, system)\n",
    "                targets.append(dataset.Sentiment[i])\n",
    "                predictions.append(inference(prompt=prompt, sentence=dataset.Text[i], tokenizer=tokenizer, model=model))\n",
    "            \n",
    "            right, wrong, no_sentiment = 0, 0, 0\n",
    "            \n",
    "            for j in range(len(predictions)):\n",
    "                if(predictions[j] == 2):\n",
    "                    no_sentiment += 1\n",
    "                elif(targets[j] == predictions[j]):\n",
    "                        right += 1\n",
    "                elif(targets[j] != predictions[j]):\n",
    "                        wrong += 1\n",
    "\n",
    "            if shots not in overall_results:\n",
    "                overall_results[shots] = dict()\n",
    "\n",
    "            overall_results[shots][run] = {'correct' : right/len(predictions), 'wrong' : wrong/len(predictions), 'no_sentiment': no_sentiment/len(predictions)}\n",
    "            # report = classification_report(targets, predictions, labels=[0,1,2], output_dict=True, zero_division=0)\n",
    "            # overall_results[shots] = report\n",
    "\n",
    "    return overall_results"
   ]
  },
  {
   "cell_type": "code",
   "execution_count": 15,
   "metadata": {},
   "outputs": [],
   "source": [
    "import json\n",
    "import csv\n",
    "\n",
    "def write_csv(file_path, dataframe):\n",
    "    csv_path = \"csv/\" + file_path + \".csv\"\n",
    "    json_path = \"json/\" + file_path + \".json\"\n",
    "    with open(csv_path, mode='w', newline='') as file:\n",
    "        writer = csv.writer(file)\n",
    "        \n",
    "        # Scrittura dell'intestazione\n",
    "        writer.writerow(['', '', file_path.replace(\"_results\", \"\"), ''])\n",
    "        writer.writerow(['', '', 'Errors', '', '', 'Errors', '', '', 'Errors', '', '', 'Errors'])\n",
    "        writer.writerow(['Runs', 'Correct', 'Wrong', 'No_sentiment', 'Correct', 'Wrong', 'No_sentiment', 'Correct', 'Wrong', 'No_sentiment', 'Correct', 'Wrong', 'No_sentiment'])\n",
    "        \n",
    "        # Scrittura dei dati\n",
    "        for j in range(3):\n",
    "            field = [\"Run \" + str(j)]\n",
    "            if(j != 0):\n",
    "                field.append(\"\")\n",
    "                field.append(\"\")\n",
    "                field.append(\"\")\n",
    "            for shots, runs in dataframe.items():\n",
    "                for run_number, metrics in runs.items():\n",
    "                    if(run_number == j):\n",
    "                        field.append(metrics['correct'])\n",
    "                        field.append(metrics['wrong'])\n",
    "                        field.append(metrics['no_sentiment'])\n",
    "            writer.writerow(field)\n",
    "    print(f\"I dati sono stati scritti su {csv_path}.\")\n",
    "\n",
    "    with open(json_path, 'w') as f:\n",
    "        json.dump(dataframe, f, sort_keys=True, indent=4)"
   ]
  },
  {
   "cell_type": "code",
   "execution_count": null,
   "metadata": {},
   "outputs": [],
   "source": []
  },
  {
   "cell_type": "code",
   "execution_count": 16,
   "metadata": {},
   "outputs": [
    {
     "name": "stdout",
     "output_type": "stream",
     "text": [
      "I dati sono stati scritti su csv/SP_original_results.csv.\n"
     ]
    }
   ],
   "source": [
    "SP_results_original_set = eval(dataset=original, system=True)\n",
    "\n",
    "file = 'SP_original_results'\n",
    "\n",
    "write_csv(file, SP_results_original_set)\n",
    "# Scrittura dei dati su un file CSV"
   ]
  },
  {
   "cell_type": "code",
   "execution_count": 19,
   "metadata": {},
   "outputs": [
    {
     "name": "stdout",
     "output_type": "stream",
     "text": [
      "I dati sono stati scritti su csv/original_results.csv.\n"
     ]
    }
   ],
   "source": [
    "results_original_set = eval(dataset=original, system=False)\n",
    "\n",
    "file = 'original_results'\n",
    "\n",
    "write_csv(file, results_original_set)"
   ]
  },
  {
   "cell_type": "code",
   "execution_count": 20,
   "metadata": {},
   "outputs": [
    {
     "name": "stdout",
     "output_type": "stream",
     "text": [
      "Running shot 0\n",
      "Run 0\n"
     ]
    },
    {
     "name": "stderr",
     "output_type": "stream",
     "text": [
      "100%|██████████| 488/488 [01:48<00:00,  4.51it/s]\n"
     ]
    },
    {
     "name": "stdout",
     "output_type": "stream",
     "text": [
      "Running shot 1\n",
      "Run 0\n"
     ]
    },
    {
     "name": "stderr",
     "output_type": "stream",
     "text": [
      "100%|██████████| 488/488 [02:08<00:00,  3.79it/s]\n"
     ]
    },
    {
     "name": "stdout",
     "output_type": "stream",
     "text": [
      "Run 1\n"
     ]
    },
    {
     "name": "stderr",
     "output_type": "stream",
     "text": [
      "100%|██████████| 488/488 [02:07<00:00,  3.82it/s]\n"
     ]
    },
    {
     "name": "stdout",
     "output_type": "stream",
     "text": [
      "Run 2\n"
     ]
    },
    {
     "name": "stderr",
     "output_type": "stream",
     "text": [
      "100%|██████████| 488/488 [02:08<00:00,  3.80it/s]\n"
     ]
    },
    {
     "name": "stdout",
     "output_type": "stream",
     "text": [
      "Running shot 2\n",
      "Run 0\n"
     ]
    },
    {
     "name": "stderr",
     "output_type": "stream",
     "text": [
      "100%|██████████| 488/488 [03:09<00:00,  2.57it/s]\n"
     ]
    },
    {
     "name": "stdout",
     "output_type": "stream",
     "text": [
      "Run 1\n"
     ]
    },
    {
     "name": "stderr",
     "output_type": "stream",
     "text": [
      "100%|██████████| 488/488 [03:07<00:00,  2.60it/s]\n"
     ]
    },
    {
     "name": "stdout",
     "output_type": "stream",
     "text": [
      "Run 2\n"
     ]
    },
    {
     "name": "stderr",
     "output_type": "stream",
     "text": [
      "100%|██████████| 488/488 [03:04<00:00,  2.65it/s]\n"
     ]
    },
    {
     "name": "stdout",
     "output_type": "stream",
     "text": [
      "Running shot 3\n",
      "Run 0\n"
     ]
    },
    {
     "name": "stderr",
     "output_type": "stream",
     "text": [
      "100%|██████████| 488/488 [04:22<00:00,  1.86it/s]\n"
     ]
    },
    {
     "name": "stdout",
     "output_type": "stream",
     "text": [
      "Run 1\n"
     ]
    },
    {
     "name": "stderr",
     "output_type": "stream",
     "text": [
      "100%|██████████| 488/488 [04:22<00:00,  1.86it/s]\n"
     ]
    },
    {
     "name": "stdout",
     "output_type": "stream",
     "text": [
      "Run 2\n"
     ]
    },
    {
     "name": "stderr",
     "output_type": "stream",
     "text": [
      "100%|██████████| 488/488 [04:21<00:00,  1.87it/s]"
     ]
    },
    {
     "name": "stdout",
     "output_type": "stream",
     "text": [
      "I dati sono stati scritti su csv/original_results.csv.\n"
     ]
    },
    {
     "name": "stderr",
     "output_type": "stream",
     "text": [
      "\n"
     ]
    }
   ],
   "source": [
    "SP_results_contrast_set = eval(dataset=original, system=True)\n",
    "\n",
    "csv_file = 'SP_contrast_results'\n",
    "\n",
    "write_csv(file, SP_results_contrast_set)"
   ]
  },
  {
   "cell_type": "code",
   "execution_count": 21,
   "metadata": {},
   "outputs": [
    {
     "name": "stdout",
     "output_type": "stream",
     "text": [
      "Running shot 0\n",
      "Run 0\n"
     ]
    },
    {
     "name": "stderr",
     "output_type": "stream",
     "text": [
      "100%|██████████| 488/488 [01:51<00:00,  4.38it/s]\n"
     ]
    },
    {
     "name": "stdout",
     "output_type": "stream",
     "text": [
      "Running shot 1\n",
      "Run 0\n"
     ]
    },
    {
     "name": "stderr",
     "output_type": "stream",
     "text": [
      "100%|██████████| 488/488 [02:05<00:00,  3.88it/s]\n"
     ]
    },
    {
     "name": "stdout",
     "output_type": "stream",
     "text": [
      "Run 1\n"
     ]
    },
    {
     "name": "stderr",
     "output_type": "stream",
     "text": [
      "100%|██████████| 488/488 [02:06<00:00,  3.85it/s]\n"
     ]
    },
    {
     "name": "stdout",
     "output_type": "stream",
     "text": [
      "Run 2\n"
     ]
    },
    {
     "name": "stderr",
     "output_type": "stream",
     "text": [
      "100%|██████████| 488/488 [02:08<00:00,  3.80it/s]\n"
     ]
    },
    {
     "name": "stdout",
     "output_type": "stream",
     "text": [
      "Running shot 2\n",
      "Run 0\n"
     ]
    },
    {
     "name": "stderr",
     "output_type": "stream",
     "text": [
      "100%|██████████| 488/488 [03:02<00:00,  2.68it/s]\n"
     ]
    },
    {
     "name": "stdout",
     "output_type": "stream",
     "text": [
      "Run 1\n"
     ]
    },
    {
     "name": "stderr",
     "output_type": "stream",
     "text": [
      "100%|██████████| 488/488 [03:01<00:00,  2.69it/s]\n"
     ]
    },
    {
     "name": "stdout",
     "output_type": "stream",
     "text": [
      "Run 2\n"
     ]
    },
    {
     "name": "stderr",
     "output_type": "stream",
     "text": [
      "100%|██████████| 488/488 [02:57<00:00,  2.75it/s]\n"
     ]
    },
    {
     "name": "stdout",
     "output_type": "stream",
     "text": [
      "Running shot 3\n",
      "Run 0\n"
     ]
    },
    {
     "name": "stderr",
     "output_type": "stream",
     "text": [
      "100%|██████████| 488/488 [04:06<00:00,  1.98it/s]\n"
     ]
    },
    {
     "name": "stdout",
     "output_type": "stream",
     "text": [
      "Run 1\n"
     ]
    },
    {
     "name": "stderr",
     "output_type": "stream",
     "text": [
      "100%|██████████| 488/488 [04:09<00:00,  1.96it/s]\n"
     ]
    },
    {
     "name": "stdout",
     "output_type": "stream",
     "text": [
      "Run 2\n"
     ]
    },
    {
     "name": "stderr",
     "output_type": "stream",
     "text": [
      "100%|██████████| 488/488 [04:03<00:00,  2.00it/s]"
     ]
    },
    {
     "name": "stdout",
     "output_type": "stream",
     "text": [
      "I dati sono stati scritti su csv/original_results.csv.\n"
     ]
    },
    {
     "name": "stderr",
     "output_type": "stream",
     "text": [
      "\n"
     ]
    }
   ],
   "source": [
    "results_contrast_set = eval(dataset=original, system=False)\n",
    "\n",
    "csv_file = 'contrast_results'\n",
    "\n",
    "write_csv(file, results_contrast_set)"
   ]
  },
  {
   "cell_type": "code",
   "execution_count": 22,
   "metadata": {},
   "outputs": [],
   "source": [
    "def mean(data):\n",
    "    averages = {}\n",
    "\n",
    "    # Itera attraverso i numeri di aiuti\n",
    "    for num_helps, runs in data.items():\n",
    "        # Inizializza variabili per accumulare i valori\n",
    "        total_correct = 0\n",
    "        total_wrong = 0\n",
    "        total_no_sentiment = 0\n",
    "        \n",
    "        # Conta il numero di run per questo numero di aiuti\n",
    "        num_runs = len(runs)\n",
    "        \n",
    "        # Accumula i valori delle run\n",
    "        for run in runs.values():\n",
    "            total_correct += run['correct']\n",
    "            total_wrong += run['wrong']\n",
    "            total_no_sentiment += run['no_sentiment']\n",
    "        \n",
    "        # Calcola la media dei valori\n",
    "        averages[num_helps] = {\n",
    "            'correct': total_correct / num_runs,\n",
    "            'wrong': total_wrong / num_runs,\n",
    "            'no_sentiment': total_no_sentiment / num_runs\n",
    "        }\n",
    "    return averages\n"
   ]
  },
  {
   "cell_type": "code",
   "execution_count": 23,
   "metadata": {},
   "outputs": [],
   "source": [
    "SP_original_mean = mean(SP_results_original_set)\n",
    "\n",
    "SP_contrast_mean = mean(SP_results_contrast_set)\n",
    "\n",
    "original_mean = mean(results_original_set)\n",
    "\n",
    "contrast_mean = mean(results_contrast_set)"
   ]
  },
  {
   "cell_type": "code",
   "execution_count": 32,
   "metadata": {},
   "outputs": [],
   "source": [
    "from matplotlib import pyplot as plt\n",
    "import numpy as np\n",
    "import pandas as pd\n",
    "\n",
    "accuracy = dict()\n",
    "\n",
    "def add_accuracy(data, name):\n",
    "    for shot, metrics in data.items():\n",
    "        if shot not in accuracy:\n",
    "            accuracy[shot] = dict()\n",
    "        total = 0\n",
    "        accuracy[shot][name] = metrics['correct']\n"
   ]
  },
  {
   "cell_type": "code",
   "execution_count": 33,
   "metadata": {},
   "outputs": [],
   "source": [
    "add_accuracy(SP_original_mean, 'SP_Original')\n",
    "add_accuracy(SP_contrast_mean, 'SP_Contrast')\n",
    "add_accuracy(original_mean, 'Original')\n",
    "add_accuracy(contrast_mean, 'Contrast')"
   ]
  },
  {
   "cell_type": "code",
   "execution_count": 34,
   "metadata": {},
   "outputs": [
    {
     "name": "stdout",
     "output_type": "stream",
     "text": [
      "{0: {'SP_Original': 0.9569672131147541, 'SP_Contrast': 0.9569672131147541, 'Original': 0.9549180327868853, 'Contrast': 0.9549180327868853}, 1: {'SP_Original': 0.9596994535519126, 'SP_Contrast': 0.9583333333333334, 'Original': 0.9624316939890711, 'Contrast': 0.9610655737704917}, 2: {'SP_Original': 0.9617486338797815, 'SP_Contrast': 0.9590163934426229, 'Original': 0.9610655737704917, 'Contrast': 0.9596994535519127}, 3: {'SP_Original': 0.9624316939890711, 'SP_Contrast': 0.9637978142076502, 'Original': 0.9603825136612022, 'Contrast': 0.9631147540983607}}\n"
     ]
    }
   ],
   "source": [
    "print(accuracy)"
   ]
  },
  {
   "cell_type": "code",
   "execution_count": 35,
   "metadata": {},
   "outputs": [
    {
     "name": "stdout",
     "output_type": "stream",
     "text": [
      "I dati sono stati scritti su csv/accuracy.csv.\n"
     ]
    }
   ],
   "source": [
    "csv_file = 'csv/accuracy.csv'\n",
    "\n",
    "# Scrittura dei dati su un file CSV\n",
    "with open(csv_file, mode='w', newline='') as file:\n",
    "    writer = csv.writer(file)\n",
    "    \n",
    "    # Scrittura dell'intestazione\n",
    "    writer.writerow([\"\", \"SP_Original\", \"SP_Contrast\", \"Original\", \"Contrast\"])\n",
    "    \n",
    "    # Scrittura dei dati\n",
    "    for shot, types in accuracy.items():\n",
    "        field = [\"Help=\" + str(shot)]\n",
    "        for type, value in types.items():\n",
    "            field.append(value) \n",
    "        writer.writerow(field) \n",
    "print(f\"I dati sono stati scritti su {csv_file}.\")\n",
    "\n",
    "with open('accuracy.json', 'w') as f:\n",
    "    json.dump(accuracy, f, sort_keys=True, indent=4)"
   ]
  },
  {
   "cell_type": "code",
   "execution_count": 36,
   "metadata": {},
   "outputs": [
    {
     "data": {
      "image/png": "[encoded data removed]",
      "text/plain": [
       "<Figure size 1000x600 with 1 Axes>"
      ]
     },
     "metadata": {},
     "output_type": "display_data"
    }
   ],
   "source": [
    "indices = list(accuracy.keys())\n",
    "\n",
    "# Estrai tutti i valori per 'SP_original', 'SP_contrast', 'original', 'contrast'\n",
    "SP_original_values = [accuracy[i]['SP_Original'] for i in indices]\n",
    "SP_contrast_values = [accuracy[i]['SP_Contrast'] for i in indices]\n",
    "original_values = [accuracy[i]['Original'] for i in indices]\n",
    "contrast_values = [accuracy[i]['Contrast'] for i in indices]\n",
    "\n",
    "# Larghezza delle barre\n",
    "bar_width = 0.2\n",
    "\n",
    "# Posizioni per gli indici\n",
    "index = np.arange(len(indices))\n",
    "\n",
    "# Crea il plot\n",
    "fig, ax = plt.subplots(figsize=(10, 6))\n",
    "plt.ylim(0.94, 0.97)\n",
    "bar1 = ax.bar(index - bar_width, SP_original_values, bar_width, label='SP_original')\n",
    "bar2 = ax.bar(index, SP_contrast_values, bar_width, label='SP_contrast')\n",
    "bar3 = ax.bar(index + bar_width, original_values, bar_width, label='original')\n",
    "bar4 = ax.bar(index + 2*bar_width, contrast_values, bar_width, label='contrast')\n",
    "\n",
    "# Etichette, titoli e legenda\n",
    "ax.set_xlabel('Index')\n",
    "ax.set_ylabel('Values')\n",
    "ax.set_title('Comparison of Values')\n",
    "ax.set_xticks(index)\n",
    "ax.set_xticklabels(indices)\n",
    "ax.legend()\n",
    "\n",
    "plt.tight_layout()\n",
    "plt.show()"
   ]
  },
  {
   "cell_type": "code",
   "execution_count": 5,
   "metadata": {},
   "outputs": [],
   "source": [
    "# import json\n",
    "# with open(\"json/SP_original_results.json\", \"r\") as file:\n",
    "#     SP_results_original_set = json.load(file)\n",
    "\n",
    "# with open(\"json/SP_contrast_results.json\", \"r\") as file:\n",
    "#     SP_results_contrast_set = json.load(file)\n",
    "\n",
    "# with open(\"json/original_results.json\", \"r\") as file:\n",
    "#     results_original_set = json.load(file)\n",
    "\n",
    "# with open(\"json/contrast_results.json\", \"r\") as file:\n",
    "#     results_contrast_set = json.load(file)"
   ]
  },
  {
   "cell_type": "code",
   "execution_count": 61,
   "metadata": {},
   "outputs": [],
   "source": [
    "from matplotlib import pyplot as plt\n",
    "import numpy as np\n",
    "\n",
    "def plot_dataframe(data, title):\n",
    "    # Estrazione dei dati\n",
    "    shots = list(data.keys())\n",
    "    correct_values = [data[shot]['correct'] for shot in shots]\n",
    "    wrong_values = [data[shot]['wrong'] for shot in shots]\n",
    "    no_sentiment_values = [data[shot]['no_sentiment'] for shot in shots]\n",
    "\n",
    "    # Larghezza delle barre\n",
    "    bar_width = 0.25\n",
    "\n",
    "    # Posizioni delle barre\n",
    "    r1 = np.arange(len(shots))\n",
    "    r2 = [x + bar_width for x in r1]\n",
    "    r3 = [x + bar_width for x in r2]\n",
    "\n",
    "    # Creazione del plot\n",
    "    fig, ax = plt.subplots(figsize=(12, 6))\n",
    "\n",
    "    bars1 = ax.bar(r1, correct_values, color='b', width=bar_width, edgecolor='grey', label='Correct')\n",
    "    bars2 = ax.bar(r2, wrong_values, color='r', width=bar_width, edgecolor='grey', label='Wrong')\n",
    "    bars3 = ax.bar(r3, no_sentiment_values, color='g', width=bar_width, edgecolor='grey', label='No Sentiment')\n",
    "\n",
    "    # Aggiunta delle etichette e del titolo\n",
    "    ax.set_xlabel('Number of Helps', fontweight='bold')\n",
    "    ax.set_ylabel('Values', fontweight='bold')\n",
    "    ax.set_title(title, fontweight='bold')\n",
    "    ax.set_xticks([r + bar_width for r in range(len(shots))])\n",
    "    ax.set_xticklabels(shots)\n",
    "    ax.legend()\n",
    "\n",
    "    # Aggiunta dei valori delle barre con precisione a 3 cifre decimali\n",
    "    for bar in bars1:\n",
    "        height = bar.get_height()\n",
    "        ax.text(bar.get_x() + bar.get_width() / 2.0, height, f'{height:.3f}', ha='center', va='bottom')\n",
    "\n",
    "    for bar in bars2:\n",
    "        height = bar.get_height()\n",
    "        ax.text(bar.get_x() + bar.get_width() / 2.0, height, f'{height:.3f}', ha='center', va='bottom')\n",
    "\n",
    "    for bar in bars3:\n",
    "        height = bar.get_height()\n",
    "        ax.text(bar.get_x() + bar.get_width() / 2.0, height, f'{height:.3f}', ha='center', va='bottom')\n",
    "\n",
    "    # Mostra il plot\n",
    "    plt.show()"
   ]
  },
  {
   "cell_type": "code",
   "execution_count": 62,
   "metadata": {},
   "outputs": [
    {
     "data": {
      "image/png": "[encoded data removed]",
      "text/plain": [
       "<Figure size 1000x800 with 1 Axes>"
      ]
     },
     "metadata": {},
     "output_type": "display_data"
    },
    {
     "data": {
      "image/png": "[encoded data removed]",
      "text/plain": [
       "<Figure size 1000x800 with 1 Axes>"
      ]
     },
     "metadata": {},
     "output_type": "display_data"
    },
    {
     "data": {
      "image/png": "[encoded data removed]",
      "text/plain": [
       "<Figure size 1000x800 with 1 Axes>"
      ]
     },
     "metadata": {},
     "output_type": "display_data"
    },
    {
     "data": {
      "image/png": "[encoded data removed]",
      "text/plain": [
       "<Figure size 1000x800 with 1 Axes>"
      ]
     },
     "metadata": {},
     "output_type": "display_data"
    }
   ],
   "source": [
    "plot_dataframe(SP_original_mean, \"SP_Original\")\n",
    "plot_dataframe(SP_contrast_mean, \"SP_Contrast\")\n",
    "plot_dataframe(original_mean, \"Original\")\n",
    "plot_dataframe(contrast_mean, \"Contrast\")"
   ]
  },
  {
   "cell_type": "code",
   "execution_count": null,
   "metadata": {},
   "outputs": [],
   "source": []
  },
  {
   "cell_type": "code",
   "execution_count": null,
   "metadata": {},
   "outputs": [],
   "source": [
    "total = []\n",
    "indexes = []\n",
    "original_result = [accuracy[x]['accuracy'] for x in range(len(performance_original))]\n",
    "contrast_result = [performance_contrast[x]['accuracy'] for x in range(len(performance_contrast))]\n",
    "shots_list = [str(x)+' Shots' for x in [y['shot'] for y in performance_original]]\n",
    "\n",
    "for i in range(len(original_result)):\n",
    "    total.append(original_result[i])\n",
    "    total.append(contrast_result[i])\n",
    "    indexes.append(shots_list[i])\n",
    "    indexes.append(shots_list[i]+' C')\n",
    "\n",
    "print(total)\n",
    "print(indexes)"
   ]
  },
  {
   "cell_type": "code",
   "execution_count": null,
   "metadata": {},
   "outputs": [],
   "source": [
    "plt.bar([i for i in range(len(indexes)) if i % 2 == 0], [total[i] for i in range(len(indexes)) if i % 2 == 0], color='blue', label='Original')\n",
    "plt.bar([i for i in range(len(indexes)) if i % 2 != 0], [total[i] for i in range(len(indexes)) if i % 2 != 0], color='red', label='Adversarial')\n",
    "plt.xticks(ticks = [i for i in range(len(indexes))], labels=[indexes[i] for i in range(len(indexes))], fontsize=6)\n",
    "\n",
    "plt.ylabel('Accuracy')\n",
    "plt.xlabel('Shots')\n",
    "\n",
    "plt.title('Accuracy on different Few Shots Situations')\n",
    "plt.legend()\n",
    "plt.show()"
   ]
  },
  {
   "cell_type": "code",
   "execution_count": null,
   "metadata": {},
   "outputs": [],
   "source": [
    "plt.bar(range(len(original_result)), original_result)\n",
    "plt.xticks(ticks = [])\n",
    "plt.ylabel('Accuracy')\n",
    "plt.xlabel('Shots')\n",
    "\n",
    "plt.title('Accuracy on different Few Shots Situations')\n",
    "plt.legend()\n",
    "plt.show()"
   ]
  },
  {
   "cell_type": "code",
   "execution_count": null,
   "metadata": {},
   "outputs": [],
   "source": [
    "import os\n",
    "os.system(\"paplay complete.wav\")\n"
   ]
  }
 ],
 "metadata": {
  "kernelspec": {
   "display_name": "ml",
   "language": "python",
   "name": "python3"
  },
  "language_info": {
   "codemirror_mode": {
    "name": "ipython",
    "version": 3
   },
   "file_extension": ".py",
   "mimetype": "text/x-python",
   "name": "python",
   "nbconvert_exporter": "python",
   "pygments_lexer": "ipython3",
   "version": "3.10.12"
  }
 },
 "nbformat": 4,
 "nbformat_minor": 2
}
